{
 "cells": [
  {
   "cell_type": "code",
   "execution_count": 38,
   "metadata": {},
   "outputs": [],
   "source": [
    "from __future__ import division\n",
    "import numpy as np\n",
    "import math\n",
    "import matplotlib.pyplot as plt\n",
    "%matplotlib inline\n",
    "np.random.seed(1234)\n",
    "#!pip install imageio\n",
    "import imageio"
   ]
  },
  {
   "cell_type": "code",
   "execution_count": 39,
   "metadata": {},
   "outputs": [
    {
     "data": {
      "text/plain": [
       "<matplotlib.image.AxesImage at 0x175e8b5d630>"
      ]
     },
     "execution_count": 39,
     "metadata": {},
     "output_type": "execute_result"
    },
    {
     "data": {
      "image/png": "[encoded data removed]",
      "text/plain": [
       "<Figure size 432x288 with 1 Axes>"
      ]
     },
     "metadata": {},
     "output_type": "display_data"
    }
   ],
   "source": [
    "img_gray = imageio.imread('testSample/img_1.jpg')\n",
    "plt.imshow(img_gray,cmap='Greys')"
   ]
  },
  {
   "cell_type": "code",
   "execution_count": 40,
   "metadata": {},
   "outputs": [
    {
     "data": {
      "text/plain": [
       "<matplotlib.image.AxesImage at 0x175e8bb6e10>"
      ]
     },
     "execution_count": 40,
     "metadata": {},
     "output_type": "execute_result"
    },
    {
     "data": {
      "image/png": "[encoded data removed]",
      "text/plain": [
       "<Figure size 432x288 with 1 Axes>"
      ]
     },
     "metadata": {},
     "output_type": "display_data"
    }
   ],
   "source": [
    "img_gray = imageio.imread('testSample/img_1.jpg')\n",
    "\n",
    "#converting the picture to black and white\n",
    "img_gray_arr = np.asarray(img_gray,int)\n",
    "img_mean = np.mean(img_gray_arr)\n",
    "img_arr = np.copy(img_gray_arr)\n",
    "img_arr[img_gray_arr<img_mean] = -1\n",
    "img_arr[img_gray_arr>= img_mean] = 1\n",
    "plt.imshow(img_arr,cmap='Greys')"
   ]
  },
  {
   "cell_type": "code",
   "execution_count": 41,
   "metadata": {},
   "outputs": [
    {
     "data": {
      "text/plain": [
       "array([[-1, -1, -1, -1, -1, -1, -1, -1, -1, -1, -1, -1, -1, -1, -1, -1,\n",
       "        -1, -1, -1, -1, -1, -1, -1, -1, -1, -1, -1, -1],\n",
       "       [-1, -1, -1, -1, -1, -1, -1, -1, -1, -1, -1, -1, -1, -1, -1, -1,\n",
       "        -1, -1, -1, -1, -1, -1, -1, -1, -1, -1, -1, -1],\n",
       "       [-1, -1, -1, -1, -1, -1, -1, -1, -1, -1, -1, -1, -1, -1, -1, -1,\n",
       "        -1, -1, -1, -1, -1, -1, -1, -1, -1, -1, -1, -1],\n",
       "       [-1, -1, -1, -1, -1, -1, -1, -1, -1, -1, -1, -1, -1, -1, -1, -1,\n",
       "        -1, -1, -1, -1, -1, -1, -1, -1, -1, -1, -1, -1],\n",
       "       [-1, -1, -1, -1, -1, -1, -1, -1, -1, -1, -1, -1, -1, -1, -1,  1,\n",
       "         1,  1, -1, -1, -1, -1, -1, -1, -1, -1, -1, -1],\n",
       "       [-1, -1, -1, -1, -1, -1, -1, -1, -1, -1,  1,  1,  1,  1,  1,  1,\n",
       "         1,  1, -1, -1, -1, -1, -1, -1, -1, -1, -1, -1],\n",
       "       [-1, -1, -1, -1, -1, -1, -1, -1, -1,  1,  1,  1,  1,  1,  1,  1,\n",
       "         1,  1,  1,  1,  1, -1, -1, -1, -1, -1, -1, -1],\n",
       "       [-1, -1, -1, -1, -1, -1, -1, -1, -1,  1,  1,  1,  1,  1,  1,  1,\n",
       "         1,  1,  1,  1,  1, -1, -1, -1, -1, -1, -1, -1],\n",
       "       [-1, -1, -1, -1, -1, -1, -1, -1, -1,  1,  1,  1,  1,  1,  1, -1,\n",
       "        -1,  1,  1,  1,  1,  1, -1, -1, -1, -1, -1, -1],\n",
       "       [-1, -1, -1, -1, -1, -1, -1, -1, -1, -1,  1,  1,  1,  1, -1, -1,\n",
       "        -1, -1,  1,  1,  1,  1, -1, -1, -1, -1, -1, -1],\n",
       "       [-1, -1, -1, -1, -1, -1, -1, -1, -1, -1, -1, -1, -1, -1, -1, -1,\n",
       "        -1, -1,  1,  1,  1,  1, -1, -1, -1, -1, -1, -1],\n",
       "       [-1, -1, -1, -1, -1, -1, -1, -1, -1, -1, -1, -1, -1, -1, -1, -1,\n",
       "        -1, -1, -1,  1,  1,  1, -1, -1, -1, -1, -1, -1],\n",
       "       [-1, -1, -1, -1, -1, -1, -1, -1, -1, -1, -1, -1, -1, -1, -1, -1,\n",
       "        -1, -1,  1,  1,  1,  1, -1, -1, -1, -1, -1, -1],\n",
       "       [-1, -1, -1, -1, -1, -1, -1, -1, -1, -1, -1, -1, -1, -1, -1, -1,\n",
       "        -1, -1,  1,  1,  1,  1, -1, -1, -1, -1, -1, -1],\n",
       "       [-1, -1, -1, -1, -1, -1, -1, -1, -1, -1, -1, -1, -1,  1,  1, -1,\n",
       "        -1, -1,  1,  1,  1,  1, -1, -1, -1, -1, -1, -1],\n",
       "       [-1, -1, -1, -1, -1, -1, -1, -1,  1,  1,  1,  1,  1,  1,  1,  1,\n",
       "         1,  1,  1,  1,  1, -1, -1, -1, -1, -1, -1, -1],\n",
       "       [-1, -1, -1, -1, -1,  1,  1,  1,  1,  1,  1,  1,  1,  1,  1,  1,\n",
       "         1,  1,  1,  1,  1,  1, -1, -1, -1, -1, -1, -1],\n",
       "       [-1, -1, -1, -1,  1,  1,  1,  1,  1,  1,  1,  1,  1,  1,  1,  1,\n",
       "         1,  1,  1,  1,  1,  1,  1, -1, -1, -1, -1, -1],\n",
       "       [-1, -1, -1, -1,  1,  1,  1,  1,  1,  1, -1,  1,  1,  1,  1,  1,\n",
       "         1,  1,  1,  1,  1,  1,  1,  1, -1, -1, -1, -1],\n",
       "       [-1, -1, -1, -1,  1,  1,  1,  1,  1,  1,  1,  1,  1,  1,  1,  1,\n",
       "         1, -1, -1, -1,  1,  1,  1,  1, -1, -1, -1, -1],\n",
       "       [-1, -1, -1, -1,  1,  1,  1,  1,  1,  1,  1,  1,  1,  1,  1,  1,\n",
       "        -1, -1, -1, -1, -1,  1,  1,  1, -1, -1, -1, -1],\n",
       "       [-1, -1, -1, -1, -1, -1,  1,  1,  1,  1,  1, -1, -1, -1, -1, -1,\n",
       "        -1, -1, -1, -1, -1, -1, -1, -1, -1, -1, -1, -1],\n",
       "       [-1, -1, -1, -1, -1, -1, -1, -1, -1, -1, -1, -1, -1, -1, -1, -1,\n",
       "        -1, -1, -1, -1, -1, -1, -1, -1, -1, -1, -1, -1],\n",
       "       [-1, -1, -1, -1, -1, -1, -1, -1, -1, -1, -1, -1, -1, -1, -1, -1,\n",
       "        -1, -1, -1, -1, -1, -1, -1, -1, -1, -1, -1, -1],\n",
       "       [-1, -1, -1, -1, -1, -1, -1, -1, -1, -1, -1, -1, -1, -1, -1, -1,\n",
       "        -1, -1, -1, -1, -1, -1, -1, -1, -1, -1, -1, -1],\n",
       "       [-1, -1, -1, -1, -1, -1, -1, -1, -1, -1, -1, -1, -1, -1, -1, -1,\n",
       "        -1, -1, -1, -1, -1, -1, -1, -1, -1, -1, -1, -1],\n",
       "       [-1, -1, -1, -1, -1, -1, -1, -1, -1, -1, -1, -1, -1, -1, -1, -1,\n",
       "        -1, -1, -1, -1, -1, -1, -1, -1, -1, -1, -1, -1],\n",
       "       [-1, -1, -1, -1, -1, -1, -1, -1, -1, -1, -1, -1, -1, -1, -1, -1,\n",
       "        -1, -1, -1, -1, -1, -1, -1, -1, -1, -1, -1, -1]])"
      ]
     },
     "execution_count": 41,
     "metadata": {},
     "output_type": "execute_result"
    }
   ],
   "source": [
    "img_arr"
   ]
  },
  {
   "cell_type": "code",
   "execution_count": 43,
   "metadata": {},
   "outputs": [
    {
     "data": {
      "text/plain": [
       "<matplotlib.image.AxesImage at 0x175e8c618d0>"
      ]
     },
     "execution_count": 43,
     "metadata": {},
     "output_type": "execute_result"
    },
    {
     "data": {
      "image/png": "[encoded data removed]",
      "text/plain": [
       "<Figure size 432x288 with 1 Axes>"
      ]
     },
     "metadata": {},
     "output_type": "display_data"
    }
   ],
   "source": [
    "def make_noisy_image(lena_arr,per=0.1):\n",
    "    total_pixels = lena_arr.shape[0]*lena_arr.shape[1]\n",
    "    num_flips = int(per*total_pixels)\n",
    "    px_to_flip = np.random.randint(low=0, high=total_pixels, size=num_flips)\n",
    "    \n",
    "    for i in px_to_flip:\n",
    "        row_num = int(math.floor(i/lena_arr.shape[0]))\n",
    "        col_num = i%lena_arr.shape[0]\n",
    "        if lena_arr[row_num,col_num] == 1:\n",
    "            lena_arr[row_num,col_num] =-1\n",
    "        else:\n",
    "            lena_arr[row_num, col_num]=1\n",
    "    \n",
    "noisy_img_arr = np.copy(img_arr) #important to deep copy the original array\n",
    "make_noisy_image(noisy_img_arr)\n",
    "plt.imshow(noisy_img_arr,cmap='Greys')"
   ]
  },
  {
   "cell_type": "code",
   "execution_count": 44,
   "metadata": {},
   "outputs": [
    {
     "name": "stdout",
     "output_type": "stream",
     "text": [
      "8.673469387755102\n"
     ]
    }
   ],
   "source": [
    "def percent_pixel_flipped(noisy_arr,denoised_arr):\n",
    "    num_flipped = 0\n",
    "    total_px = noisy_arr.shape[0]*noisy_arr.shape[1]\n",
    "    for i in range(noisy_arr.shape[0]):\n",
    "        for j in range(noisy_arr.shape[1]):\n",
    "            if noisy_arr[i,j]!= denoised_arr[i,j]:\n",
    "                num_flipped+=1\n",
    "   \n",
    "    percent_change = num_flipped*100./total_px\n",
    "    return percent_change\n",
    "\n",
    "print( percent_pixel_flipped(noisy_img_arr, img_arr))"
   ]
  },
  {
   "cell_type": "code",
   "execution_count": 45,
   "metadata": {},
   "outputs": [
    {
     "name": "stdout",
     "output_type": "stream",
     "text": [
      "-0.24857142857142628\n"
     ]
    }
   ],
   "source": [
    "def check_limit(value, limit):\n",
    "    if value<0:\n",
    "        value=limit-1\n",
    "    if value==limit:\n",
    "        value=0\n",
    "    return value\n",
    "\n",
    "def add_energy_contribution(visible_arr,hidden_arr, x_val,y_val, const_list):\n",
    "    h_val = const_list[0]\n",
    "    beta = const_list[1]\n",
    "    eta = const_list[2]\n",
    "    total_pixels = hidden_arr.shape[0]*hidden_arr.shape[1]\n",
    "    energy = h_val*hidden_arr[x_val,y_val]\n",
    "    energy += -eta*hidden_arr[x_val,y_val]*visible_arr[x_val,y_val]\n",
    "    x_neighbor = [-1,1]\n",
    "    y_neighbor = [-1,1]\n",
    "    for i in x_neighbor:\n",
    "        for j in y_neighbor:\n",
    "            x_n = check_limit(x_val +i,hidden_arr.shape[0])\n",
    "            y_n = check_limit(y_val +j, hidden_arr.shape[1])\n",
    "            \n",
    "            energy += -beta*hidden_arr[x_val,y_val]*hidden_arr[x_n,y_n]\n",
    "    energy = energy/total_pixels\n",
    "    return energy\n",
    "\n",
    "def calculate_total_energy(visible_arr,hidden_arr,const_list):\n",
    "    energy = 0.\n",
    "    for i in range(visible_arr.shape[0]):\n",
    "        for j in range(visible_arr.shape[1]):\n",
    "            energy += add_energy_contribution(visible_arr,hidden_arr,i,j,const_list)\n",
    "    return energy\n",
    "\n",
    "#this list is [h, beta,eta]\n",
    "const_list = [0,.1,.02]\n",
    "hidden_image = np.copy(noisy_img_arr)\n",
    "total_energy= calculate_total_energy(noisy_img_arr, hidden_image, const_list)\n",
    "\n",
    "print (total_energy)\n"
   ]
  },
  {
   "cell_type": "code",
   "execution_count": 46,
   "metadata": {},
   "outputs": [
    {
     "name": "stdout",
     "output_type": "stream",
     "text": [
      "% Pixels flipped: 8.673469387755102\n",
      "Total Energy: -0.2934183673469368\n",
      "% Pixels flipped: 4.719387755102041\n",
      "Total Energy: -0.29433673469387567\n",
      "% Pixels flipped: 4.719387755102041\n",
      "Total Energy: -0.2947959183673451\n",
      "% Pixels flipped: 4.591836734693878\n",
      "Total Energy: -0.2948469387755084\n",
      "% Pixels flipped: 4.464285714285714\n",
      "Algorithm converged\n"
     ]
    }
   ],
   "source": [
    "def icm_single_pixel(visible_arr, hidden_arr, px_x, px_y, total_energy, const_list):\n",
    "    current_energy = add_energy_contribution(visible_arr, hidden_arr,px_x,px_y, const_list)\n",
    "    other_energy = total_energy - current_energy\n",
    "    #flip the pixel\n",
    "    new_hidden_arr = np.copy(hidden_arr)\n",
    "    if hidden_arr[px_x,px_y]==1:\n",
    "        new_hidden_arr[px_x,px_y]=-1\n",
    "    else:\n",
    "        new_hidden_arr[px_x,px_y] = 1\n",
    "    flipped_energy = add_energy_contribution(visible_arr, new_hidden_arr,px_x,px_y, const_list)\n",
    "    #print current_energy, flipped_energy\n",
    "    if flipped_energy < current_energy:\n",
    "        should_flip = True\n",
    "        total_energy = other_energy + flipped_energy\n",
    "        hidden_arr = new_hidden_arr\n",
    "        #print percent_pixel_flipped(hidden_arr, visible_arr)\n",
    "    else:\n",
    "        should_flip = False\n",
    "    \n",
    "    return (hidden_arr,should_flip,total_energy)\n",
    "    #return (should_flip, hidden_arr, total_energy)\n",
    "\n",
    "#main icm simulation\n",
    "hidden_image = np.copy(noisy_img_arr)\n",
    "energy_this_round = total_energy\n",
    "print (\"% Pixels flipped:\", percent_pixel_flipped(hidden_image, img_arr))\n",
    "\n",
    "for sim_round in range(5):\n",
    "    for i in range(hidden_image.shape[0]):\n",
    "        for j in range(hidden_image.shape[1]):\n",
    "            hidden_image,should_flip,total_energy = icm_single_pixel(noisy_img_arr,hidden_image,i,j, total_energy,const_list)\n",
    "            \n",
    "        #print percent_pixel_flipped(hidden_image, lena_arr)\n",
    "    if (total_energy - energy_this_round) == 0:\n",
    "        print( \"Algorithm converged\")\n",
    "        break\n",
    "    energy_this_round = total_energy\n",
    "    print (\"Total Energy:\",total_energy)\n",
    "    print (\"% Pixels flipped:\", percent_pixel_flipped(hidden_image, img_arr))\n"
   ]
  },
  {
   "cell_type": "code",
   "execution_count": 47,
   "metadata": {},
   "outputs": [
    {
     "data": {
      "text/plain": [
       "<matplotlib.image.AxesImage at 0x175e8cb9390>"
      ]
     },
     "execution_count": 47,
     "metadata": {},
     "output_type": "execute_result"
    },
    {
     "data": {
      "image/png": "[encoded data removed]",
      "text/plain": [
       "<Figure size 432x288 with 1 Axes>"
      ]
     },
     "metadata": {},
     "output_type": "display_data"
    }
   ],
   "source": [
    "plt.imshow(hidden_image,cmap='Greys')"
   ]
  },
  {
   "cell_type": "code",
   "execution_count": null,
   "metadata": {},
   "outputs": [],
   "source": []
  }
 ],
 "metadata": {
  "kernelspec": {
   "display_name": "Python 3",
   "language": "python",
   "name": "python3"
  },
  "language_info": {
   "codemirror_mode": {
    "name": "ipython",
    "version": 3
   },
   "file_extension": ".py",
   "mimetype": "text/x-python",
   "name": "python",
   "nbconvert_exporter": "python",
   "pygments_lexer": "ipython3",
   "version": "3.7.0"
  }
 },
 "nbformat": 4,
 "nbformat_minor": 2
}
